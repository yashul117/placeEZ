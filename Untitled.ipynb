{
 "cells": [
  {
   "cell_type": "code",
   "execution_count": 2,
   "id": "842b5116",
   "metadata": {},
   "outputs": [
    {
     "data": {
      "text/html": [
       "<div>\n",
       "<style scoped>\n",
       "    .dataframe tbody tr th:only-of-type {\n",
       "        vertical-align: middle;\n",
       "    }\n",
       "\n",
       "    .dataframe tbody tr th {\n",
       "        vertical-align: top;\n",
       "    }\n",
       "\n",
       "    .dataframe thead th {\n",
       "        text-align: right;\n",
       "    }\n",
       "</style>\n",
       "<table border=\"1\" class=\"dataframe\">\n",
       "  <thead>\n",
       "    <tr style=\"text-align: right;\">\n",
       "      <th></th>\n",
       "      <th>First name</th>\n",
       "      <th>Last name</th>\n",
       "      <th>Father Name</th>\n",
       "      <th>Mother Name</th>\n",
       "      <th>Current Location</th>\n",
       "      <th>Hometown Location</th>\n",
       "      <th>Achievements</th>\n",
       "      <th>Skills</th>\n",
       "      <th>Certification Courses</th>\n",
       "      <th>Sem 1 CGPA</th>\n",
       "      <th>...</th>\n",
       "      <th>Roll Number</th>\n",
       "      <th>Personal Email</th>\n",
       "      <th>College Email</th>\n",
       "      <th>Password</th>\n",
       "      <th>Phone Number</th>\n",
       "      <th>Branch</th>\n",
       "      <th>Degree</th>\n",
       "      <th>10th Percentage</th>\n",
       "      <th>12th Percentage</th>\n",
       "      <th>Active Backlogs</th>\n",
       "    </tr>\n",
       "  </thead>\n",
       "  <tbody>\n",
       "    <tr>\n",
       "      <th>0</th>\n",
       "      <td>Bhavesh</td>\n",
       "      <td>Patil</td>\n",
       "      <td>abc</td>\n",
       "      <td>xyz</td>\n",
       "      <td>Punjab</td>\n",
       "      <td>Amritsar</td>\n",
       "      <td>Consulted in the redesign of a company’s websi...</td>\n",
       "      <td>Java,Python,React,Angular</td>\n",
       "      <td>Java,Python</td>\n",
       "      <td>6.56</td>\n",
       "      <td>...</td>\n",
       "      <td>1T523641</td>\n",
       "      <td>bhavesh@gmail.com</td>\n",
       "      <td>b@gmail.com</td>\n",
       "      <td>b</td>\n",
       "      <td>9856321470</td>\n",
       "      <td>Information Technology</td>\n",
       "      <td>B.E</td>\n",
       "      <td>0.8</td>\n",
       "      <td>0.85</td>\n",
       "      <td>0</td>\n",
       "    </tr>\n",
       "  </tbody>\n",
       "</table>\n",
       "<p>1 rows × 28 columns</p>\n",
       "</div>"
      ],
      "text/plain": [
       "  First name Last name Father Name Mother Name Current Location  \\\n",
       "0    Bhavesh     Patil         abc         xyz           Punjab   \n",
       "\n",
       "  Hometown Location                                       Achievements  \\\n",
       "0          Amritsar  Consulted in the redesign of a company’s websi...   \n",
       "\n",
       "                      Skills Certification Courses  Sem 1 CGPA  ...  \\\n",
       "0  Java,Python,React,Angular           Java,Python        6.56  ...   \n",
       "\n",
       "   Roll Number     Personal Email  College Email  Password  Phone Number  \\\n",
       "0     1T523641  bhavesh@gmail.com    b@gmail.com         b    9856321470   \n",
       "\n",
       "                   Branch  Degree 10th Percentage 12th Percentage  \\\n",
       "0  Information Technology     B.E             0.8            0.85   \n",
       "\n",
       "  Active Backlogs  \n",
       "0               0  \n",
       "\n",
       "[1 rows x 28 columns]"
      ]
     },
     "execution_count": 2,
     "metadata": {},
     "output_type": "execute_result"
    }
   ],
   "source": [
    "import pandas as pd\n",
    "dff = pd.read_excel(\"student_info.xlsx\")\n",
    "dff"
   ]
  },
  {
   "cell_type": "code",
   "execution_count": 4,
   "id": "293d555f",
   "metadata": {},
   "outputs": [
    {
     "data": {
      "text/plain": [
       "Index(['First name', 'Last name', 'Father Name', 'Mother Name',\n",
       "       'Current Location', 'Hometown Location', 'Achievements', 'Skills',\n",
       "       'Certification Courses', 'Sem 1 CGPA', 'Sem 2 CGPA', 'Sem 3 CGPA',\n",
       "       'Sem 4 CGPA', 'Sem 5 CGPA', 'Sem 6 CGPA', 'Sem 7 CGPA', 'Sem 8 CGPA',\n",
       "       'College Name', 'Roll Number', 'Personal Email', 'College Email',\n",
       "       'Password', 'Phone Number', 'Branch', 'Degree', '10th Percentage',\n",
       "       '12th Percentage', 'Active Backlogs'],\n",
       "      dtype='object')"
      ]
     },
     "execution_count": 4,
     "metadata": {},
     "output_type": "execute_result"
    }
   ],
   "source": [
    "a = dff.columns\n",
    "a"
   ]
  },
  {
   "cell_type": "code",
   "execution_count": 5,
   "id": "12846d1c",
   "metadata": {},
   "outputs": [
    {
     "name": "stdout",
     "output_type": "stream",
     "text": [
      "df[First name]\n",
      "df[Last name]\n",
      "df[Father Name]\n",
      "df[Mother Name]\n",
      "df[Current Location]\n",
      "df[Hometown Location]\n",
      "df[Achievements]\n",
      "df[Skills]\n",
      "df[Certification Courses]\n",
      "df[Sem 1 CGPA]\n",
      "df[Sem 2 CGPA]\n",
      "df[Sem 3 CGPA]\n",
      "df[Sem 4 CGPA]\n",
      "df[Sem 5 CGPA]\n",
      "df[Sem 6 CGPA]\n",
      "df[Sem 7 CGPA]\n",
      "df[Sem 8 CGPA]\n",
      "df[College Name]\n",
      "df[Roll Number]\n",
      "df[Personal Email]\n",
      "df[College Email]\n",
      "df[Password]\n",
      "df[Phone Number]\n",
      "df[Branch]\n",
      "df[Degree]\n",
      "df[10th Percentage]\n",
      "df[12th Percentage]\n",
      "df[Active Backlogs]\n"
     ]
    }
   ],
   "source": [
    "for i in a:\n",
    "    print(\"df[\"+i+\"]\")"
   ]
  },
  {
   "cell_type": "code",
   "execution_count": 1,
   "id": "4d4c4ff6",
   "metadata": {},
   "outputs": [],
   "source": [
    "import pymysql\n",
    "\n",
    "def dbConnection():\n",
    "    try:\n",
    "        connection = pymysql.connect(\n",
    "            host=\"localhost\", user=\"root\", password=\"root\", database=\"003placement\")\n",
    "        return connection\n",
    "    except:\n",
    "        print(\"Something went wrong in database Connection\")\n",
    "\n",
    "\n",
    "def dbClose():\n",
    "    try:\n",
    "        dbConnection().close()\n",
    "    except:\n",
    "        print(\"Something went wrong in Close DB Connection\")\n",
    "\n",
    "        \n",
    "con = dbConnection()\n",
    "cursor = con.cursor()"
   ]
  },
  {
   "cell_type": "code",
   "execution_count": 9,
   "id": "8c836dcd",
   "metadata": {},
   "outputs": [
    {
     "data": {
      "text/plain": [
       "[(1, 'akshay', 'kadam', '8569741230', 'ak@gmail.com', 'ak', ''),\n",
       " (2, 'swapnil', 'patil', '856321470', 's@gmail.com', 'sp', '')]"
      ]
     },
     "execution_count": 9,
     "metadata": {},
     "output_type": "execute_result"
    }
   ],
   "source": [
    "cursor.execute(\"SELECT * from userdetails\")\n",
    "res = cursor.fetchall()\n",
    "list(res)"
   ]
  },
  {
   "cell_type": "code",
   "execution_count": 10,
   "id": "2bdcd724",
   "metadata": {},
   "outputs": [
    {
     "name": "stdout",
     "output_type": "stream",
     "text": [
      "(1, 'akshay', 'kadam', '8569741230', 'ak@gmail.com', 'ak', '')\n",
      "(2, 'swapnil', 'patil', '856321470', 's@gmail.com', 'sp', '')\n"
     ]
    }
   ],
   "source": [
    "for i in list(res):\n",
    "    print(i)"
   ]
  },
  {
   "cell_type": "code",
   "execution_count": 12,
   "id": "23bceb48",
   "metadata": {},
   "outputs": [
    {
     "data": {
      "text/plain": [
       "26"
      ]
     },
     "execution_count": 12,
     "metadata": {},
     "output_type": "execute_result"
    }
   ],
   "source": [
    "b = [\"fname\",\"lname\",\"fathername\",\"mothername\",\"curntLoc\",\"Hometwn\",\"achivmnt\",\"skil\",\"certif\",\"cgpa1\",\"cgpa2\",\"cgpa3\",\"cgpa4\",\"cgpa5\",\"cgpa6\",\"cgpa7\",\"cgpa8\",\"clgname\",\"rolno\",\"pEmail\",\"phnno\",\"brnch\",\"degre\",\"percent10\",\"percent12\",\"actbacklog\"]\n",
    "len(b)"
   ]
  },
  {
   "cell_type": "code",
   "execution_count": 15,
   "id": "11558413",
   "metadata": {},
   "outputs": [],
   "source": [
    "ab = []\n",
    "for i in range(len(b)):\n",
    "    ab.append(\"%s\")"
   ]
  },
  {
   "cell_type": "code",
   "execution_count": 5,
   "id": "fdada7d9",
   "metadata": {},
   "outputs": [],
   "source": [
    "s = ['fname', 'lname', 'curntLoc', 'achivmnt', 'skil', 'certif', 'phnno', 'actbacklog']"
   ]
  },
  {
   "cell_type": "code",
   "execution_count": 14,
   "id": "6ae83dc5",
   "metadata": {
    "scrolled": true
   },
   "outputs": [
    {
     "data": {
      "text/plain": [
       "['Bhavesh',\n",
       " 'Patil',\n",
       " 'Punjab',\n",
       " 'Consulted in the redesign of a company’s website, resulting in a 25% increase in traffic',\n",
       " 'Java,Python,React,Angular',\n",
       " 'Java,Python',\n",
       " '9856321470',\n",
       " '0']"
      ]
     },
     "execution_count": 14,
     "metadata": {},
     "output_type": "execute_result"
    }
   ],
   "source": [
    "fname = \"Bhavesh\"\n",
    "flst = []\n",
    "\n",
    "for i in s:\n",
    "    cursor.execute(\"select \"+i+\" from studentinfo where fname=%s;\",(fname))\n",
    "    res = list(cursor.fetchall())\n",
    "    flst.append(res[0][0])\n",
    "\n",
    "flst"
   ]
  },
  {
   "cell_type": "code",
   "execution_count": null,
   "id": "5635487b",
   "metadata": {},
   "outputs": [],
   "source": []
  },
  {
   "cell_type": "code",
   "execution_count": null,
   "id": "4cf9850c",
   "metadata": {},
   "outputs": [],
   "source": []
  },
  {
   "cell_type": "code",
   "execution_count": null,
   "id": "14b39e9b",
   "metadata": {},
   "outputs": [],
   "source": []
  },
  {
   "cell_type": "code",
   "execution_count": 21,
   "id": "d9844111",
   "metadata": {},
   "outputs": [],
   "source": [
    "stdinfo = [\"['fname', 'lname', 'curntLoc', 'achivmnt', 'skil', 'certif', 'phnno', 'actbacklog']\",\"['lname', 'curntLoc', 'achivmnt', 'certif', 'phnno']\"]"
   ]
  },
  {
   "cell_type": "code",
   "execution_count": 23,
   "id": "7714b505",
   "metadata": {},
   "outputs": [
    {
     "data": {
      "text/plain": [
       "[['fname',\n",
       "  ' lname',\n",
       "  ' curntLoc',\n",
       "  ' achivmnt',\n",
       "  ' skil',\n",
       "  ' certif',\n",
       "  ' phnno',\n",
       "  ' actbacklog'],\n",
       " ['lname', ' curntLoc', ' achivmnt', ' certif', ' phnno']]"
      ]
     },
     "execution_count": 23,
     "metadata": {},
     "output_type": "execute_result"
    }
   ],
   "source": [
    "asd = []\n",
    "for i in stdinfo:\n",
    "    a = i.replace(\"'\",\"\")\n",
    "    a = a.replace(\"[\",\"\")\n",
    "    a = a.replace(\"]\",\"\")\n",
    "    asdf = a.split(\",\")\n",
    "    asd.append(asdf)\n",
    "asd"
   ]
  },
  {
   "cell_type": "code",
   "execution_count": null,
   "id": "bf23eaa6",
   "metadata": {},
   "outputs": [],
   "source": []
  },
  {
   "cell_type": "code",
   "execution_count": null,
   "id": "3f6dd427",
   "metadata": {},
   "outputs": [],
   "source": []
  },
  {
   "cell_type": "code",
   "execution_count": null,
   "id": "f7fde0bf",
   "metadata": {},
   "outputs": [],
   "source": []
  },
  {
   "cell_type": "code",
   "execution_count": 3,
   "id": "57dfdf91",
   "metadata": {},
   "outputs": [],
   "source": [
    "a = {\"fname\":\"First Name\",\"lname\":\"Last Name\",\"fathername\":\"Father Name\",\"mothername\":\"Mother Name\",\"curntLoc\":\"Current Location\",\"Hometwn\":\"HomeTown\",\"achivmnt\":\"Achievement\",\"skil\":\"Skills\",\"certif\":\"Certificates\",\"cgpa1\":\"Semester 1 CGPA\",\"cgpa2\":\"Semester 2 CGPA\",\"cgpa3\":\"Semester 3 CGPA\",\"cgpa4\":\"Semester 4 CGPA\",\"cgpa5\":\"Semester 5 CGPA\",\"cgpa6\":\"Semester 6 CGPA\",\"cgpa7\":\"Semester 7 CGPA\",\"cgpa8\":\"Semester 8 CGPA\",\"clgname\":\"Collage Name\",\"rolno\":\"Roll No.\",\"pEmail\":\"Personal Email\",\"phnno\":\"Phone No.\",\"brnch\":\"Branch\",\"degre\":\"Degree\",\"percent10\":\"10th Percentage\",\"percent12\":\"12th Percentage\",\"actbacklog\":\"Active Backlog\"}"
   ]
  },
  {
   "cell_type": "code",
   "execution_count": 4,
   "id": "34f66cec",
   "metadata": {},
   "outputs": [
    {
     "data": {
      "text/plain": [
       "'First Name'"
      ]
     },
     "execution_count": 4,
     "metadata": {},
     "output_type": "execute_result"
    }
   ],
   "source": [
    "a[\"fname\"]"
   ]
  },
  {
   "cell_type": "code",
   "execution_count": 12,
   "id": "ccb5c5af",
   "metadata": {},
   "outputs": [],
   "source": [
    "resumefile_path = 'static/upload_resume/New_Product_Launch.pdf'\n",
    "aplycompanyName = 'Apple'\n",
    "aplyjobTitle = 'Flutter developer'\n",
    "status = \"applied\"\n",
    "fname = 'Bhavesh'\n",
    "lname = 'Patil'\n",
    "cat1 = \"qwe\"\n",
    "cat2 = \"dfg\"\n",
    "cat3 = \"asd\"\n",
    "cat4 = \"xcv\"\n",
    "cat5 = \"ghr\"\n",
    "cat6 = \"erg\"\n",
    "cat7 = \"ndd\"\n",
    "cat8 = \"njp\"\n",
    "cat9 = \"ppj\"\n"
   ]
  },
  {
   "cell_type": "code",
   "execution_count": null,
   "id": "6376ad64",
   "metadata": {},
   "outputs": [],
   "source": []
  },
  {
   "cell_type": "code",
   "execution_count": 9,
   "id": "68fa7a65",
   "metadata": {},
   "outputs": [
    {
     "name": "stdout",
     "output_type": "stream",
     "text": [
      "inserted!\n"
     ]
    }
   ],
   "source": [
    "sql = \"insert into applycmp (cmpName,Jobtitle,resume,fname,lname,cat1,cat2,cat3,cat4,cat5,cat6,cat7,cat8,cat9,status) values (%s,%s,%s,%s,%s,%s,%s,%s,%s,%s,%s,%s,%s,%s,%s);\"\n",
    "val = (aplycompanyName,aplyjobTitle,resumefile_path,fname,lname,cat1,cat2,cat3,cat4,cat5,cat6,cat7,cat8,cat9,status)\n",
    "cursor.execute(sql,val)\n",
    "con.commit()\n",
    "print(\"inserted!\")"
   ]
  },
  {
   "cell_type": "code",
   "execution_count": 13,
   "id": "da3688f4",
   "metadata": {},
   "outputs": [
    {
     "data": {
      "text/plain": [
       "['Patil',\n",
       " 'Punjab',\n",
       " 'Consulted in the redesign of a company’s website, resulting in a 25% increase in traffic',\n",
       " 'Java,Python,React,Angular',\n",
       " 'Java,Python',\n",
       " '9856321470',\n",
       " '0']"
      ]
     },
     "execution_count": 13,
     "metadata": {},
     "output_type": "execute_result"
    }
   ],
   "source": [
    "studinfo = ['Bhavesh','Patil','Punjab', 'Consulted in the redesign of a company’s website, resulting in a 25% increase in traffic', 'Java,Python,React,Angular', 'Java,Python', '9856321470', '0']\n",
    "\n",
    "studinfo.remove(fname)\n",
    "studinfo"
   ]
  },
  {
   "cell_type": "code",
   "execution_count": null,
   "id": "ab4c472a",
   "metadata": {},
   "outputs": [],
   "source": []
  }
 ],
 "metadata": {
  "kernelspec": {
   "display_name": "Python 3 (ipykernel)",
   "language": "python",
   "name": "python3"
  },
  "language_info": {
   "codemirror_mode": {
    "name": "ipython",
    "version": 3
   },
   "file_extension": ".py",
   "mimetype": "text/x-python",
   "name": "python",
   "nbconvert_exporter": "python",
   "pygments_lexer": "ipython3",
   "version": "3.8.0"
  }
 },
 "nbformat": 4,
 "nbformat_minor": 5
}
